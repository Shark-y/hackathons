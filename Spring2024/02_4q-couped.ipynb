{
 "cells": [
  {
   "cell_type": "markdown",
   "id": "a8c195bc-365b-45ea-9540-2d8655b5ccc0",
   "metadata": {},
   "source": [
    "# Analysis for a Chip with 4 qubits and 4 CPWs\n",
    "\n",
    "* CPWCPW: Superconducting coplanar waveguide (CPW) resonators\n",
    "* See https://qiskit-community.github.io/qiskit-metal/\n",
    "\n",
    "## Resources\n",
    "* SUPERCONDUCTING COPLANAR WAVEGUIDE RESONATORS https://qct.ifae.es/files/Alberto_Lajara_Coplanar_Waveguide_Resonators_for_QC_2020.pdf\n",
    "\n",
    "## Library includes"
   ]
  },
  {
   "cell_type": "code",
   "execution_count": 1,
   "id": "cef3849a-2394-4f8c-b606-d77cb6c85381",
   "metadata": {},
   "outputs": [],
   "source": [
    "import qiskit_metal as metal\n",
    "from qiskit_metal import designs, MetalGUI\n",
    "from qiskit_metal import Dict, Headings"
   ]
  },
  {
   "cell_type": "markdown",
   "id": "05b64804-3d86-4243-9f47-02c81567670f",
   "metadata": {},
   "source": [
    "Display Ansys renderer options"
   ]
  },
  {
   "cell_type": "code",
   "execution_count": 2,
   "id": "b462624b-90e8-4d20-822a-db4d82101ef0",
   "metadata": {},
   "outputs": [
    {
     "data": {
      "text/plain": [
       "{'Lj': '10nH',\n",
       " 'Cj': 0,\n",
       " '_Rj': 0,\n",
       " 'max_mesh_length_jj': '7um',\n",
       " 'max_mesh_length_port': '7um',\n",
       " 'project_path': None,\n",
       " 'project_name': None,\n",
       " 'design_name': None,\n",
       " 'x_buffer_width_mm': 0.2,\n",
       " 'y_buffer_width_mm': 0.2,\n",
       " 'wb_threshold': '400um',\n",
       " 'wb_offset': '0um',\n",
       " 'wb_size': 5,\n",
       " 'plot_ansys_fields_options': {'name': 'NAME:Mag_E1',\n",
       "  'UserSpecifyName': '0',\n",
       "  'UserSpecifyFolder': '0',\n",
       "  'QuantityName': 'Mag_E',\n",
       "  'PlotFolder': 'E Field',\n",
       "  'StreamlinePlot': 'False',\n",
       "  'AdjacentSidePlot': 'False',\n",
       "  'FullModelPlot': 'False',\n",
       "  'IntrinsicVar': \"Phase='0deg'\",\n",
       "  'PlotGeomInfo_0': '1',\n",
       "  'PlotGeomInfo_1': 'Surface',\n",
       "  'PlotGeomInfo_2': 'FacesList',\n",
       "  'PlotGeomInfo_3': '1'}}"
      ]
     },
     "execution_count": 2,
     "metadata": {},
     "output_type": "execute_result"
    }
   ],
   "source": [
    "from qiskit_metal.renderers.renderer_ansys.ansys_renderer import QAnsysRenderer\n",
    "QAnsysRenderer.default_options"
   ]
  },
  {
   "cell_type": "markdown",
   "id": "67f63bb4-39ba-4d89-8d62-4a40b8399e60",
   "metadata": {},
   "source": [
    "## Create a Planar design\n"
   ]
  },
  {
   "cell_type": "code",
   "execution_count": 3,
   "id": "00a7b750-3ced-45e0-b36d-f2d015fe9843",
   "metadata": {},
   "outputs": [],
   "source": [
    "# 1. Add code to create a desing\n",
    "\n",
    "# 2. Instanciate a metal gui with the design\n"
   ]
  },
  {
   "cell_type": "markdown",
   "id": "9c2dfe3a-86d1-46ef-889c-69bc3bd52699",
   "metadata": {},
   "source": [
    "## Add  of 4 qubits and 4 CPWs\n",
    "\n",
    "Set the chip dimensions"
   ]
  },
  {
   "cell_type": "code",
   "execution_count": 4,
   "id": "5a3b64e3-373c-46b3-a219-3ffdebce5934",
   "metadata": {},
   "outputs": [],
   "source": [
    "from qiskit_metal.qlibrary.qubits.transmon_pocket import TransmonPocket\n",
    "from qiskit_metal.qlibrary.tlines.meandered import RouteMeander\n",
    "\n",
    "# Add code to set the chip dimensions\n"
   ]
  },
  {
   "cell_type": "markdown",
   "id": "c1c62852-ebc2-4602-aba7-1e491561cf29",
   "metadata": {},
   "source": [
    "### Create 4 transmon qubits\n"
   ]
  },
  {
   "cell_type": "code",
   "execution_count": 5,
   "id": "ae747387-a5b3-45f3-a34f-d8c8f546c22e",
   "metadata": {},
   "outputs": [],
   "source": [
    "# Enable overwrite, so that we can re-un this cell multiple times without incurring object name collisions\n",
    "design.overwrite_enabled = True\n",
    "\n",
    "# We now define the same custom options for all the transmons.\n",
    "# We only list the options we intend to modify with respect to the default values\n",
    "options = Dict(\n",
    "    pad_width = '425 um',\n",
    "    pocket_height = '650um',\n",
    "    # Adding 3 connection_pads\n",
    "    connection_pads=Dict(\n",
    "        a = dict(loc_W=+1,loc_H=-1, pad_width='200um'),\n",
    "        b = dict(loc_W=-1,loc_H=+1, pad_height='30um'),\n",
    "        c = dict(loc_W=-1,loc_H=-1, pad_height='50um')\n",
    "    )\n",
    ")\n",
    "\n",
    "# Create the 4 transmons\n",
    "q1 = TransmonPocket(design, 'Q1', options = dict(\n",
    "    pos_x='+2.42251mm', pos_y='+0.0mm', **options))\n",
    "\n",
    "# Add code to create 3 extra transm on qubit here...\n"
   ]
  },
  {
   "cell_type": "markdown",
   "id": "35839222-dd7d-4a32-96f2-635c59c0aff1",
   "metadata": {},
   "source": [
    "### Create 4 CPWs\n",
    "Coplanar waveguide resonators (CPWs) "
   ]
  },
  {
   "cell_type": "code",
   "execution_count": 6,
   "id": "7fc506a9-8e9c-4474-93be-9b0cb4124bda",
   "metadata": {},
   "outputs": [],
   "source": [
    "# Now we do the same for the CPWs\n",
    "options = Dict(\n",
    "        lead=Dict(\n",
    "            start_straight='0.2mm',\n",
    "            end_straight='0.2mm'),\n",
    "        trace_gap='9um',\n",
    "        trace_width='15um')\n",
    "\n",
    "# We define a handy method to shorten the number of line of code necessary to define the 4 CPW\n",
    "def connect(component_name: str, component1: str, pin1: str, component2: str, pin2: str,\n",
    "            length: str, asymmetry='0 um', flip=False, fillet='90um'):\n",
    "    \"\"\"Connect two pins with a CPW.\"\"\"\n",
    "    myoptions = Dict(\n",
    "        fillet=fillet,\n",
    "        hfss_wire_bonds = True,\n",
    "        pin_inputs=Dict(\n",
    "            start_pin=Dict(\n",
    "                component=component1,\n",
    "                pin=pin1),\n",
    "            end_pin=Dict(\n",
    "                component=component2,\n",
    "                pin=pin2)),\n",
    "        total_length=length)\n",
    "    myoptions.update(options)\n",
    "    myoptions.meander.asymmetry = asymmetry\n",
    "    myoptions.meander.lead_direction_inverted = 'true' if flip else 'false'\n",
    "    return RouteMeander(design, component_name, myoptions)\n",
    "\n",
    "# Create the 4 CPWs\n",
    "asym = 140\n",
    "cpw1 = connect('cpw1', 'Q1', 'c', 'Q2', 'b', '5.6 mm', f'+{asym}um') # Q1 -> Q2\n",
    "cpw2 = connect('cpw2', 'Q3', 'b', 'Q2', 'c', '5.7 mm', f'-{asym}um', flip=True)\n",
    "\n",
    "# Add code to create the other 2 resonators here..\n",
    "# Q3 -> Q4\n",
    "# Q1 -> Q4"
   ]
  },
  {
   "cell_type": "markdown",
   "id": "462684e8-7d16-461e-894d-e23a14018a27",
   "metadata": {},
   "source": [
    "### Render the entire Design in the UI\n",
    "\n",
    "Spawn the Metal IDE an display the design."
   ]
  },
  {
   "cell_type": "code",
   "execution_count": 7,
   "id": "1bb6add4-a84a-4dcd-99f6-c9afbf89fed4",
   "metadata": {},
   "outputs": [],
   "source": [
    "# Render the entire design to the Qiskit Metal GUI\n",
    "# Add code here... Tip: gui.rebuild(), gui.autoscale()\n"
   ]
  },
  {
   "cell_type": "code",
   "execution_count": 8,
   "id": "31b51a49-69f3-411e-859c-c442861667ec",
   "metadata": {},
   "outputs": [
    {
     "data": {
      "text/html": [
       "<div>\n",
       "<style scoped>\n",
       "    .dataframe tbody tr th:only-of-type {\n",
       "        vertical-align: middle;\n",
       "    }\n",
       "\n",
       "    .dataframe tbody tr th {\n",
       "        vertical-align: top;\n",
       "    }\n",
       "\n",
       "    .dataframe thead th {\n",
       "        text-align: right;\n",
       "    }\n",
       "</style>\n",
       "<table border=\"1\" class=\"dataframe\">\n",
       "  <thead>\n",
       "    <tr style=\"text-align: right;\">\n",
       "      <th></th>\n",
       "      <th>component</th>\n",
       "      <th>name</th>\n",
       "      <th>geometry</th>\n",
       "      <th>layer</th>\n",
       "      <th>subtract</th>\n",
       "      <th>helper</th>\n",
       "      <th>chip</th>\n",
       "      <th>width</th>\n",
       "      <th>hfss_inductance</th>\n",
       "      <th>hfss_capacitance</th>\n",
       "      <th>hfss_resistance</th>\n",
       "      <th>hfss_mesh_kw_jj</th>\n",
       "      <th>q3d_inductance</th>\n",
       "      <th>q3d_capacitance</th>\n",
       "      <th>q3d_resistance</th>\n",
       "      <th>q3d_mesh_kw_jj</th>\n",
       "      <th>gds_cell_name</th>\n",
       "    </tr>\n",
       "  </thead>\n",
       "  <tbody>\n",
       "    <tr>\n",
       "      <th>0</th>\n",
       "      <td>1</td>\n",
       "      <td>rect_jj</td>\n",
       "      <td>LINESTRING (2.42251 -0.01500, 2.42251 0.01500)</td>\n",
       "      <td>1</td>\n",
       "      <td>False</td>\n",
       "      <td>False</td>\n",
       "      <td>main</td>\n",
       "      <td>0.02</td>\n",
       "      <td>10nH</td>\n",
       "      <td>0</td>\n",
       "      <td>0</td>\n",
       "      <td>0.000007</td>\n",
       "      <td>10nH</td>\n",
       "      <td>0</td>\n",
       "      <td>0</td>\n",
       "      <td>0.000007</td>\n",
       "      <td>my_other_junction</td>\n",
       "    </tr>\n",
       "    <tr>\n",
       "      <th>1</th>\n",
       "      <td>2</td>\n",
       "      <td>rect_jj</td>\n",
       "      <td>LINESTRING (-0.01500 -0.95000, 0.01500 -0.95000)</td>\n",
       "      <td>1</td>\n",
       "      <td>False</td>\n",
       "      <td>False</td>\n",
       "      <td>main</td>\n",
       "      <td>0.02</td>\n",
       "      <td>10nH</td>\n",
       "      <td>0</td>\n",
       "      <td>0</td>\n",
       "      <td>0.000007</td>\n",
       "      <td>10nH</td>\n",
       "      <td>0</td>\n",
       "      <td>0</td>\n",
       "      <td>0.000007</td>\n",
       "      <td>my_other_junction</td>\n",
       "    </tr>\n",
       "    <tr>\n",
       "      <th>2</th>\n",
       "      <td>3</td>\n",
       "      <td>rect_jj</td>\n",
       "      <td>LINESTRING (-2.42251 0.01500, -2.42251 -0.01500)</td>\n",
       "      <td>1</td>\n",
       "      <td>False</td>\n",
       "      <td>False</td>\n",
       "      <td>main</td>\n",
       "      <td>0.02</td>\n",
       "      <td>10nH</td>\n",
       "      <td>0</td>\n",
       "      <td>0</td>\n",
       "      <td>0.000007</td>\n",
       "      <td>10nH</td>\n",
       "      <td>0</td>\n",
       "      <td>0</td>\n",
       "      <td>0.000007</td>\n",
       "      <td>my_other_junction</td>\n",
       "    </tr>\n",
       "    <tr>\n",
       "      <th>3</th>\n",
       "      <td>4</td>\n",
       "      <td>rect_jj</td>\n",
       "      <td>LINESTRING (0.01500 0.95000, -0.01500 0.95000)</td>\n",
       "      <td>1</td>\n",
       "      <td>False</td>\n",
       "      <td>False</td>\n",
       "      <td>main</td>\n",
       "      <td>0.02</td>\n",
       "      <td>10nH</td>\n",
       "      <td>0</td>\n",
       "      <td>0</td>\n",
       "      <td>0.000007</td>\n",
       "      <td>10nH</td>\n",
       "      <td>0</td>\n",
       "      <td>0</td>\n",
       "      <td>0.000007</td>\n",
       "      <td>my_other_junction</td>\n",
       "    </tr>\n",
       "  </tbody>\n",
       "</table>\n",
       "</div>"
      ],
      "text/plain": [
       "  component     name                                          geometry  layer  \\\n",
       "0         1  rect_jj    LINESTRING (2.42251 -0.01500, 2.42251 0.01500)      1   \n",
       "1         2  rect_jj  LINESTRING (-0.01500 -0.95000, 0.01500 -0.95000)      1   \n",
       "2         3  rect_jj  LINESTRING (-2.42251 0.01500, -2.42251 -0.01500)      1   \n",
       "3         4  rect_jj    LINESTRING (0.01500 0.95000, -0.01500 0.95000)      1   \n",
       "\n",
       "   subtract  helper  chip  width hfss_inductance  hfss_capacitance  \\\n",
       "0     False   False  main   0.02            10nH                 0   \n",
       "1     False   False  main   0.02            10nH                 0   \n",
       "2     False   False  main   0.02            10nH                 0   \n",
       "3     False   False  main   0.02            10nH                 0   \n",
       "\n",
       "   hfss_resistance  hfss_mesh_kw_jj q3d_inductance  q3d_capacitance  \\\n",
       "0                0         0.000007           10nH                0   \n",
       "1                0         0.000007           10nH                0   \n",
       "2                0         0.000007           10nH                0   \n",
       "3                0         0.000007           10nH                0   \n",
       "\n",
       "   q3d_resistance  q3d_mesh_kw_jj      gds_cell_name  \n",
       "0               0        0.000007  my_other_junction  \n",
       "1               0        0.000007  my_other_junction  \n",
       "2               0        0.000007  my_other_junction  \n",
       "3               0        0.000007  my_other_junction  "
      ]
     },
     "execution_count": 8,
     "metadata": {},
     "output_type": "execute_result"
    }
   ],
   "source": [
    "# Display the junctions\n",
    "# SOMETHING HERE...tables['junction']"
   ]
  },
  {
   "cell_type": "markdown",
   "id": "fcf14e73-f255-4962-b827-ded3735cb9f2",
   "metadata": {},
   "source": [
    "You can observe in the table above that every junction has been assigned a default inductance, capacitance and resistance values, based on the originating component class default_options. In this example we intend to replace those values with a variable name, which will later be set directly in the renderer. "
   ]
  },
  {
   "cell_type": "code",
   "execution_count": 9,
   "id": "27f07d17-1a6f-43c9-a68c-1956f797631e",
   "metadata": {},
   "outputs": [],
   "source": [
    "# Update capacitance, inductance variable names\n",
    "qcomps = design.components  # short handle (alias)\n",
    "qcomps['Q1'].options['hfss_inductance'] = 'Lj1'\n",
    "qcomps['Q1'].options['hfss_capacitance'] = 'Cj1'\n",
    "\n",
    "qcomps['Q2'].options['hfss_inductance'] = 'Lj2'\n",
    "qcomps['Q2'].options['hfss_capacitance'] = 'Cj2'\n",
    "\n",
    "# Add code for Qubit 3 here...\n",
    "\n",
    "# Add code for Qubit 4 here...\n",
    "\n",
    "gui.rebuild()  # line needed to propagate the updates from the qubit instance into the junction design table\n",
    "gui.autoscale()"
   ]
  },
  {
   "cell_type": "markdown",
   "id": "acfa86cf-2545-4733-b17b-c76717d94ed9",
   "metadata": {},
   "source": [
    "## Render into Ansys HFSS ( 3D High Frequency Simulation Software)\n",
    "\n",
    "Create a  handle to refer to it in the rest of this notebook."
   ]
  },
  {
   "cell_type": "code",
   "execution_count": 10,
   "id": "e43d8ff4-f0a8-4bae-8098-bc747ab7d19d",
   "metadata": {},
   "outputs": [],
   "source": [
    "# Ansys Handle\n",
    "fourq_hfss = design.renderers.hfss"
   ]
  },
  {
   "cell_type": "markdown",
   "id": "5c026017-14c8-4c7c-83ed-a277b503a98e",
   "metadata": {},
   "source": [
    "### Start Ansys\n",
    "NOTE: The design will be added to the project that was active when the command fourq_hfss.start() was executed. Note: If a design named HFSSTransmonQubit already exists in the project, a new design will be created, with the name suffixed with an incremental integer: HFSSTransmonQubit1, HFSSTransmonQubit2, etc."
   ]
  },
  {
   "cell_type": "code",
   "execution_count": 11,
   "id": "a7a229c4-0f0a-4bd3-8e4a-579ce7ae6fd0",
   "metadata": {},
   "outputs": [
    {
     "name": "stderr",
     "output_type": "stream",
     "text": [
      "INFO 01:49PM [connect_project]: Connecting to Ansys Desktop API...\n",
      "INFO 01:49PM [load_ansys_project]: \tOpened Ansys App\n",
      "INFO 01:49PM [load_ansys_project]: \tOpened Ansys Desktop v2023.1.0\n",
      "INFO 01:49PM [load_ansys_project]: \tOpened Ansys Project\n",
      "\tFolder:    C:/Users/vsilva/Documents/Ansoft/\n",
      "\tProject:   Project2\n",
      "INFO 01:49PM [connect_design]: No active design found (or error getting active design).\n",
      "INFO 01:49PM [connect]: \t Connected to project \"Project2\". No design detected\n"
     ]
    },
    {
     "data": {
      "text/plain": [
       "True"
      ]
     },
     "execution_count": 11,
     "metadata": {},
     "output_type": "execute_result"
    }
   ],
   "source": [
    "# Start Ansys to render your design. This is optional. You can skip to the Analysis section if you wish.\n",
    "fourq_hfss.start()"
   ]
  },
  {
   "cell_type": "markdown",
   "id": "d35b9a15-139d-4c38-9e3b-e83965fff764",
   "metadata": {},
   "source": [
    "### Create an Eigenmode design\n",
    "\n",
    "The design name will display in the Ansys IDE"
   ]
  },
  {
   "cell_type": "code",
   "execution_count": 12,
   "id": "bc6151f7-c4f8-49bb-9a12-f1cdcbca3e98",
   "metadata": {},
   "outputs": [
    {
     "name": "stderr",
     "output_type": "stream",
     "text": [
      "INFO 01:50PM [connect_design]: \tOpened active design\n",
      "\tDesign:    HFSSMetalEigenmode [Solution type: Eigenmode]\n",
      "WARNING 01:50PM [connect_setup]: \tNo design setup detected.\n",
      "WARNING 01:50PM [connect_setup]: \tCreating eigenmode default setup.\n",
      "INFO 01:50PM [get_setup]: \tOpened setup `Setup`  (<class 'pyEPR.ansys.HfssEMSetup'>)\n"
     ]
    },
    {
     "data": {
      "text/plain": [
       "'HFSSMetalEigenmode'"
      ]
     },
     "execution_count": 12,
     "metadata": {},
     "output_type": "execute_result"
    }
   ],
   "source": [
    "ansys_design = fourq_hfss.new_ansys_design(\"HFSSMetalEigenmode\", 'eigenmode')\n",
    "ansys_design.name"
   ]
  },
  {
   "cell_type": "markdown",
   "id": "896b9c41-3a51-498b-a0f7-4dbf745a36b1",
   "metadata": {},
   "source": [
    "### Create a Drivenmodal design\n",
    "\n",
    "Note: You can create multiple designs, the switch beteween them."
   ]
  },
  {
   "cell_type": "code",
   "execution_count": 13,
   "id": "162078c9-a13b-437f-b2ba-14a468f76414",
   "metadata": {},
   "outputs": [],
   "source": [
    "#ansys_design1 = fourq_hfss.new_ansys_design(\"HFSSMetalDrivenModal\", 'drivenmodal')\n",
    "#ansys_design1.name"
   ]
  },
  {
   "cell_type": "markdown",
   "id": "2c836116-2954-4621-90d1-4ad85466c558",
   "metadata": {},
   "source": [
    "### Selecting a design previously created"
   ]
  },
  {
   "cell_type": "code",
   "execution_count": 14,
   "id": "11afa746-dc2b-4589-b292-3b21471535ec",
   "metadata": {},
   "outputs": [
    {
     "name": "stderr",
     "output_type": "stream",
     "text": [
      "INFO 01:16PM [connect_design]: \tOpened active design\n",
      "\tDesign:    HFSSMetalEigenmode [Solution type: Eigenmode]\n"
     ]
    }
   ],
   "source": [
    "# Optional: activate a particular design\n",
    "fourq_hfss.activate_ansys_design(\"HFSSMetalEigenmode\")\n",
    "\n",
    "# fourq_hfss.activate_ansys_design(\"HFSSMetalDrivenModal\")"
   ]
  },
  {
   "cell_type": "markdown",
   "id": "040d1aed-f24f-41db-9fbf-c7fa591a6058",
   "metadata": {},
   "source": [
    "### Render Full Design"
   ]
  },
  {
   "cell_type": "code",
   "execution_count": 13,
   "id": "914af419-13fa-4b86-a2bd-5fc12f3a270a",
   "metadata": {},
   "outputs": [],
   "source": [
    "fourq_hfss.render_design()  # entire Metal design.\n",
    "\n",
    "#fourq_hfss.clean_active_design()\n",
    "#fourq_hfss.render_design(['Q1'], [('Q1', 'b'), ('Q1', 'c')])  # single qubit with 2 endcaps.\n",
    "\n",
    "#fourq_hfss.clean_active_design()\n",
    "#fourq_hfss.render_design(['Q1', 'cpw1', 'Q2'], [('Q1', 'b'), ('Q2', 'c')])  # 2 qubits and 2 endcaps, one per qubit.\n",
    "\n",
    "# For Driven-Modal analysis, we can also add terminations. In the example below we render 1 qubit with 1 endcap and 1 port with a 70 Ohm termination.\n",
    "#fourq_hfss.clean_active_design()\n",
    "#fourq_hfss.render_design(['Q2'], [('Q2', 'a')], [('Q2', 'b', '70')])"
   ]
  },
  {
   "cell_type": "markdown",
   "id": "e605d0e0-2317-44e3-be2f-6cc5155269f7",
   "metadata": {},
   "source": [
    "## Perform Eigenmode Analisys"
   ]
  },
  {
   "cell_type": "code",
   "execution_count": 14,
   "id": "92ca6ae6-4ad1-49c2-9ea5-bb904ca4acd5",
   "metadata": {},
   "outputs": [],
   "source": [
    "from qiskit_metal.analyses.quantization import EPRanalysis\n",
    "\n",
    "# Analisys handle\n",
    "eig_4qb = EPRanalysis(design, \"hfss\")\n"
   ]
  },
  {
   "cell_type": "code",
   "execution_count": 15,
   "id": "8d606973-740e-43f0-bc61-22e5da8fc200",
   "metadata": {},
   "outputs": [
    {
     "data": {
      "text/plain": [
       "{'name': 'Setup',\n",
       " 'reuse_selected_design': True,\n",
       " 'reuse_setup': True,\n",
       " 'min_freq_ghz': 1,\n",
       " 'n_modes': 2,\n",
       " 'max_delta_f': 0.05,\n",
       " 'max_passes': 5,\n",
       " 'min_passes': 1,\n",
       " 'min_converged': 1,\n",
       " 'pct_refinement': 30,\n",
       " 'basis_order': 1,\n",
       " 'vars': {'Lj1': '13 nH', 'Cj1': '0 fF', 'Lj2': '9 nH', 'Cj2': '0 fF'}}"
      ]
     },
     "execution_count": 15,
     "metadata": {},
     "output_type": "execute_result"
    }
   ],
   "source": [
    "# Add analisys setup code here\n",
    "eig_4qb.sim.setup.max_passes = 5\n",
    "eig_4qb.sim.setup.max_delta_f = 0.05\n",
    "\n",
    "# Add n_modes = 2\n",
    "\n",
    "# Add vars = Dict(Lj1= '13 nH', Cj1= '0 fF', Lj2= '9 nH', Cj2= '0 fF')\n",
    "\n",
    "# Display setup tip: sim.setup\n"
   ]
  },
  {
   "cell_type": "markdown",
   "id": "ca897230-331e-47fc-9350-6b71929fb5f3",
   "metadata": {},
   "source": [
    "### Set render options"
   ]
  },
  {
   "cell_type": "code",
   "execution_count": 16,
   "id": "f0e876a8-911a-468f-b07e-b0afe356b3d4",
   "metadata": {},
   "outputs": [
    {
     "data": {
      "text/plain": [
       "{'Lj': '10nH',\n",
       " 'Cj': 0,\n",
       " '_Rj': 0,\n",
       " 'max_mesh_length_jj': '7um',\n",
       " 'max_mesh_length_port': '7um',\n",
       " 'project_path': None,\n",
       " 'project_name': None,\n",
       " 'design_name': None,\n",
       " 'x_buffer_width_mm': 0.5,\n",
       " 'y_buffer_width_mm': 0.5,\n",
       " 'wb_threshold': '400um',\n",
       " 'wb_offset': '0um',\n",
       " 'wb_size': 5,\n",
       " 'plot_ansys_fields_options': {'name': 'NAME:Mag_E1',\n",
       "  'UserSpecifyName': '0',\n",
       "  'UserSpecifyFolder': '0',\n",
       "  'QuantityName': 'Mag_E',\n",
       "  'PlotFolder': 'E Field',\n",
       "  'StreamlinePlot': 'False',\n",
       "  'AdjacentSidePlot': 'False',\n",
       "  'FullModelPlot': 'False',\n",
       "  'IntrinsicVar': \"Phase='0deg'\",\n",
       "  'PlotGeomInfo_0': '1',\n",
       "  'PlotGeomInfo_1': 'Surface',\n",
       "  'PlotGeomInfo_2': 'FacesList',\n",
       "  'PlotGeomInfo_3': '1'}}"
      ]
     },
     "execution_count": 16,
     "metadata": {},
     "output_type": "execute_result"
    }
   ],
   "source": [
    "eig_4qb.sim.renderer.options['x_buffer_width_mm'] = 0.5\n",
    "\n",
    "# Add renderer.options['y_buffer_width_mm'] = 0.5\n",
    "\n",
    "# Display render options. Tip: renderer.options"
   ]
  },
  {
   "cell_type": "code",
   "execution_count": 17,
   "id": "fbcd8ef1-b61e-4c8c-a942-f8181b929b9f",
   "metadata": {},
   "outputs": [
    {
     "name": "stderr",
     "output_type": "stream",
     "text": [
      "INFO 01:51PM [connect_design]: \tOpened active design\n",
      "\tDesign:    FourTransmons_hfss [Solution type: Eigenmode]\n",
      "WARNING 01:51PM [connect_setup]: \tNo design setup detected.\n",
      "WARNING 01:51PM [connect_setup]: \tCreating eigenmode default setup.\n",
      "INFO 01:51PM [get_setup]: \tOpened setup `Setup`  (<class 'pyEPR.ansys.HfssEMSetup'>)\n",
      "INFO 01:51PM [get_setup]: \tOpened setup `Setup`  (<class 'pyEPR.ansys.HfssEMSetup'>)\n",
      "INFO 01:51PM [analyze]: Analyzing setup Setup\n",
      "01:51PM 53s INFO [get_f_convergence]: Saved convergences to C:\\Users\\vsilva\\Documents\\NCSU\\etc\\Hackathons\\hfss_eig_f_convergence.csv\n"
     ]
    }
   ],
   "source": [
    "# Add code to rin the analisys. Tip sim.run(name=\"FourTransmons\", components=['cpw1', 'Q1', 'Q2', 'Q3','Q4'])\n",
    "# Note: set the components to: cpw1..cpw4, Q1..Q4\n"
   ]
  },
  {
   "cell_type": "code",
   "execution_count": 18,
   "id": "52772342-0628-4f42-a8dd-47edde00be56",
   "metadata": {},
   "outputs": [],
   "source": [
    "# Plot convergences. This will display the sim results in a metal Plot Dialog\n",
    "# SOMETHING-HERE.sim.plot_convergences()"
   ]
  },
  {
   "cell_type": "code",
   "execution_count": 19,
   "id": "5606f716-00cf-4ed3-a537-f041a82c4bbc",
   "metadata": {},
   "outputs": [
    {
     "data": {
      "image/png": "[encoded data removed]",
      "text/plain": [
       "<IPython.core.display.Image object>"
      ]
     },
     "metadata": {},
     "output_type": "display_data"
    },
    {
     "data": {
      "text/plain": [
       "WindowsPath('C:/Users/vsilva/Documents/NCSU/etc/Hackathons/ansys.png')"
      ]
     },
     "execution_count": 19,
     "metadata": {},
     "output_type": "execute_result"
    }
   ],
   "source": [
    "# Save a screen shot of the rendering\n",
    "# HANDLE.sim.save_screenshot()  # optional"
   ]
  },
  {
   "cell_type": "markdown",
   "id": "3085ec30-e3a6-4c01-89fc-882040bf3c33",
   "metadata": {},
   "source": [
    "## Cleanup\n",
    "\n",
    "You need to shutdown the Ansys connection, else you will not be able to exit the app."
   ]
  },
  {
   "cell_type": "code",
   "execution_count": 20,
   "id": "e97f20c1-5d35-49b3-8f90-fa9780fca4fb",
   "metadata": {},
   "outputs": [],
   "source": [
    "if fourq_hfss != None :\n",
    "    fourq_hfss.stop()\n",
    "\n",
    "# Eigen mode analysis )add code here)\n",
    "#HANDLE.sim.close()"
   ]
  },
  {
   "cell_type": "code",
   "execution_count": 21,
   "id": "0471b5fd-3c12-4107-9d74-c039286a91c9",
   "metadata": {},
   "outputs": [
    {
     "data": {
      "text/plain": [
       "True"
      ]
     },
     "execution_count": 21,
     "metadata": {},
     "output_type": "execute_result"
    }
   ],
   "source": [
    "# Close metal window\n",
    "# Tip: GUI.main_window.close()"
   ]
  },
  {
   "cell_type": "markdown",
   "id": "e8f56a85-438a-45ae-82bb-8e77c6736343",
   "metadata": {},
   "source": [
    "## Good Job. You are done!\n",
    "\n",
    "Take screen shot, save this notebook and PDF and submit."
   ]
  },
  {
   "cell_type": "code",
   "execution_count": null,
   "id": "f7f80208-183f-4f4e-82f2-f11c00866636",
   "metadata": {},
   "outputs": [],
   "source": []
  }
 ],
 "metadata": {
  "kernelspec": {
   "display_name": "Python 3 (ipykernel)",
   "language": "python",
   "name": "python3"
  },
  "language_info": {
   "codemirror_mode": {
    "name": "ipython",
    "version": 3
   },
   "file_extension": ".py",
   "mimetype": "text/x-python",
   "name": "python",
   "nbconvert_exporter": "python",
   "pygments_lexer": "ipython3",
   "version": "3.8.19"
  }
 },
 "nbformat": 4,
 "nbformat_minor": 5
}
